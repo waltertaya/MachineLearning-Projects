{
 "cells": [
  {
   "cell_type": "code",
   "execution_count": 38,
   "metadata": {},
   "outputs": [],
   "source": [
    "import numpy as np\n",
    "import pandas as pd\n",
    "import matplotlib.pyplot as plt"
   ]
  },
  {
   "cell_type": "code",
   "execution_count": 39,
   "metadata": {},
   "outputs": [],
   "source": [
    "df = pd.read_csv('/home/waltertaya/ML/Batch-Gradient-Descent/housing.csv', header=None)\n",
    "df.columns = ['Number of bedrooms', 'Sizes of the house(feet sqrd)', 'Prices in dollars']\n",
    "# df.head()"
   ]
  },
  {
   "cell_type": "code",
   "execution_count": 40,
   "metadata": {},
   "outputs": [],
   "source": [
    "X = np.array(df.drop('Prices in dollars', axis=1))\n",
    "y = np.array(df['Prices in dollars'])\n",
    "# print(X)\n",
    "# print(y)"
   ]
  },
  {
   "cell_type": "code",
   "execution_count": 41,
   "metadata": {},
   "outputs": [],
   "source": [
    "def predict(X,w,b):\n",
    "    y_pred = []\n",
    "    return np.array(np.matmul(w, X.T) + b)"
   ]
  },
  {
   "cell_type": "code",
   "execution_count": 42,
   "metadata": {},
   "outputs": [],
   "source": [
    "def cost_func(y, y_pred):\n",
    "    n = len(y)\n",
    "    cost = 0\n",
    "    for i in range(1, n):\n",
    "        cost += (y[i] - y_pred[i])**2\n",
    "    return cost / n"
   ]
  },
  {
   "cell_type": "code",
   "execution_count": 49,
   "metadata": {},
   "outputs": [],
   "source": [
    "def batch_gradient_descent(X, y, w, b, learning_rate, iterations):\n",
    "    N = len(y)  # Number of data points\n",
    "    for i in range(iterations):\n",
    "        # Predictions\n",
    "        y_pred = predict(X, w, b)\n",
    "        \n",
    "        # Compute gradients\n",
    "        dw = -(2/N) * np.dot(X.T, (y - y_pred))  # Gradient w.r.t weights\n",
    "        db = -(2/N) * np.sum(y - y_pred)         # Gradient w.r.t bias\n",
    "        \n",
    "        # Update weights and bias\n",
    "        w -= learning_rate * dw\n",
    "        b -= learning_rate * db\n",
    "        \n",
    "        # Optionally, print the cost every 100 iterations for monitoring\n",
    "        if i % 100 == 0:\n",
    "            cost = cost_func(y, y_pred)\n",
    "            print(f\"Iteration {i}: Cost = {cost}\")\n",
    "    \n",
    "    return w, b"
   ]
  },
  {
   "cell_type": "code",
   "execution_count": 53,
   "metadata": {},
   "outputs": [
    {
     "name": "stdout",
     "output_type": "stream",
     "text": [
      "Iteration 0: Cost = 248886.36363636365\n",
      "Iteration 100: Cost = nan\n",
      "Iteration 200: Cost = nan\n",
      "Iteration 300: Cost = nan\n",
      "Iteration 400: Cost = nan\n",
      "Iteration 500: Cost = nan\n",
      "Iteration 600: Cost = nan\n",
      "Iteration 700: Cost = nan\n",
      "Iteration 800: Cost = nan\n",
      "Iteration 900: Cost = nan\n",
      "Trained weights: [nan nan]\n",
      "Trained bias: nan\n"
     ]
    },
    {
     "name": "stderr",
     "output_type": "stream",
     "text": [
      "/tmp/ipykernel_46323/3686999675.py:12: RuntimeWarning: invalid value encountered in subtract\n",
      "  w -= learning_rate * dw\n"
     ]
    }
   ],
   "source": [
    "# w = np.array([0, 0.94])\n",
    "# b = 67\n",
    "# y_pred = predict(X, w, b)\n",
    "# print(y_pred)\n",
    "# print(cost_func(y, y_pred))\n",
    "# Initialize weights and bias\n",
    "w = np.zeros(X.shape[1])\n",
    "b = 0\n",
    "learning_rate = 0.01\n",
    "iterations = 1000\n",
    "\n",
    "# Run gradient descent\n",
    "w, b = batch_gradient_descent(X, y, w, b, learning_rate, iterations)\n",
    "\n",
    "# Final weights and bias after training\n",
    "print(f\"Trained weights: {w}\")\n",
    "print(f\"Trained bias: {b}\")"
   ]
  }
 ],
 "metadata": {
  "kernelspec": {
   "display_name": "Python 3",
   "language": "python",
   "name": "python3"
  },
  "language_info": {
   "codemirror_mode": {
    "name": "ipython",
    "version": 3
   },
   "file_extension": ".py",
   "mimetype": "text/x-python",
   "name": "python",
   "nbconvert_exporter": "python",
   "pygments_lexer": "ipython3",
   "version": "3.10.12"
  }
 },
 "nbformat": 4,
 "nbformat_minor": 2
}
