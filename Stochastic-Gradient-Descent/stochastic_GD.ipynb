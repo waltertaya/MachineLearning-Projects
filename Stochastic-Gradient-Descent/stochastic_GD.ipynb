{
  "cells": [
    {
      "cell_type": "code",
      "execution_count": 1,
      "metadata": {
        "id": "Pp3SSHgCLSWI"
      },
      "outputs": [],
      "source": [
        "import numpy as np\n",
        "import pandas as pd\n",
        "import matplotlib.pyplot as plt"
      ]
    },
    {
      "cell_type": "code",
      "execution_count": 4,
      "metadata": {
        "id": "xBXt5vHGLSWJ"
      },
      "outputs": [],
      "source": [
        "df = pd.read_csv('/home/waltertaya/MachineLearning-Projects/Stochastic-Gradient-Descent/housing.csv', header=None)\n",
        "df.columns = ['Number of bedrooms', 'Sizes of the house(feet sqrd)', 'Prices in dollars']\n",
        "# df.head()"
      ]
    },
    {
      "cell_type": "code",
      "execution_count": 5,
      "metadata": {
        "id": "L0IfC2wqLSWK"
      },
      "outputs": [],
      "source": [
        "X = np.array(df.drop('Prices in dollars', axis=1))\n",
        "y = np.array(df['Prices in dollars'])\n",
        "# print(X)\n",
        "# print(y)"
      ]
    },
    {
      "cell_type": "code",
      "execution_count": 6,
      "metadata": {
        "id": "GpIudZrkLSWK"
      },
      "outputs": [],
      "source": [
        "def predict(X,w,b):\n",
        "    y_pred = []\n",
        "    return np.array(np.matmul(w, X.T) + b)"
      ]
    },
    {
      "cell_type": "code",
      "execution_count": 7,
      "metadata": {
        "id": "CBBAonuXLSWK"
      },
      "outputs": [],
      "source": [
        "def cost_func(y, y_pred):\n",
        "    n = len(y)\n",
        "    cost = 0\n",
        "    for i in range(1, n):\n",
        "        cost += (y[i] - y_pred[i])**2\n",
        "    return cost / n"
      ]
    },
    {
      "cell_type": "code",
      "execution_count": 8,
      "metadata": {
        "id": "3f6Wx35eLSWK"
      },
      "outputs": [],
      "source": [
        "def stochastic_gradient_descent(X, y, w, b, learning_rate, iterations):\n",
        "    N = len(y)  # Number of data points\n",
        "    for i in range(iterations):\n",
        "        # Loop through each training example\n",
        "        for j in range(N):\n",
        "            # Predictions for the current example\n",
        "            y_pred = np.dot(X[j], w) + b\n",
        "\n",
        "            # Compute gradients for the current example\n",
        "            dw = -(2) * X[j] * (y[j] - y_pred)  # Gradient w.r.t weights for example j\n",
        "            db = -(2) * (y[j] - y_pred)         # Gradient w.r.t bias for example j\n",
        "\n",
        "            # Update weights and bias\n",
        "            w -= learning_rate * dw\n",
        "            b -= learning_rate * db\n",
        "\n",
        "        # Optionally, print the cost every 100 iterations for monitoring\n",
        "        if i % 100 == 0:\n",
        "            y_pred_all = predict(X, w, b)  # Predictions for the whole dataset\n",
        "            cost = cost_func(y, y_pred_all)\n",
        "            print(f\"Iteration {i}: Cost = {cost}\")\n",
        "\n",
        "    return w, b"
      ]
    },
    {
      "cell_type": "code",
      "execution_count": 9,
      "metadata": {
        "colab": {
          "base_uri": "https://localhost:8080/"
        },
        "id": "4wsKoiqmLSWK",
        "outputId": "a6f4d1eb-17d4-4e47-a522-6c0dd1c73417"
      },
      "outputs": [
        {
          "name": "stdout",
          "output_type": "stream",
          "text": [
            "Iteration 0: Cost = 144859.66370128014\n",
            "Iteration 100: Cost = 70.96220065203661\n",
            "Iteration 200: Cost = 33.82500140076176\n",
            "Iteration 300: Cost = 33.60011805132122\n",
            "Iteration 400: Cost = 33.63102206936622\n",
            "Iteration 500: Cost = 33.63545182339658\n",
            "Iteration 600: Cost = 33.63598396609795\n",
            "Iteration 700: Cost = 33.63604672395088\n",
            "Iteration 800: Cost = 33.63605410941904\n",
            "Iteration 900: Cost = 33.63605497833674\n",
            "Trained weights: [ -5.98584702 251.41172204]\n",
            "Trained bias: 440.60223162002865\n"
          ]
        }
      ],
      "source": [
        "from sklearn.preprocessing import StandardScaler\n",
        "\n",
        "# Normalize the features using StandardScaler (or MinMaxScaler)\n",
        "scaler = StandardScaler()\n",
        "X_scaled = scaler.fit_transform(X)\n",
        "\n",
        "w = np.zeros(X.shape[1])\n",
        "b = 0\n",
        "learning_rate = 0.01\n",
        "iterations = 1000\n",
        "\n",
        "# Run gradient descent\n",
        "w, b = stochastic_gradient_descent(X_scaled, y, w, b, learning_rate, iterations)\n",
        "\n",
        "# Final weights and bias after training\n",
        "print(f\"Trained weights: {w}\")\n",
        "print(f\"Trained bias: {b}\")"
      ]
    },
    {
      "cell_type": "code",
      "execution_count": 12,
      "metadata": {
        "colab": {
          "base_uri": "https://localhost:8080/"
        },
        "id": "_6BnyU_hMbQ-",
        "outputId": "35dfed79-5081-4f4e-d03d-2bfd337b917a"
      },
      "outputs": [
        {
          "name": "stdout",
          "output_type": "stream",
          "text": [
            "[257.71717724 270.50195496 351.33194951 448.85973166 168.81034966\n",
            " 718.80244863 269.56036603 507.63571322 781.09397265 907.66435776\n",
            " 164.6465265 ]\n",
            "33.636055079633245\n"
          ]
        }
      ],
      "source": [
        "w = np.array([ -5.98584702, 251.41172204])\n",
        "b = 440.60223162002865\n",
        "y_pred = predict(X_scaled, w, b)\n",
        "print(y_pred)\n",
        "print(cost_func(y, y_pred))"
      ]
    }
  ],
  "metadata": {
    "colab": {
      "provenance": []
    },
    "kernelspec": {
      "display_name": "Python 3",
      "language": "python",
      "name": "python3"
    },
    "language_info": {
      "codemirror_mode": {
        "name": "ipython",
        "version": 3
      },
      "file_extension": ".py",
      "mimetype": "text/x-python",
      "name": "python",
      "nbconvert_exporter": "python",
      "pygments_lexer": "ipython3",
      "version": "3.10.12"
    }
  },
  "nbformat": 4,
  "nbformat_minor": 0
}
