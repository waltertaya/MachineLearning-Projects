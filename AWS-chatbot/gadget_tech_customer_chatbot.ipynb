{
 "cells": [
  {
   "cell_type": "code",
   "execution_count": 2,
   "metadata": {},
   "outputs": [
    {
     "name": "stdout",
     "output_type": "stream",
     "text": [
      "Welcome to the Chatbot! How can I assist you today?\n",
      "Chatbot: Hello there! How can I assist you today?\n",
      "Chatbot: I'm sorry, I don't understand that. Please try asking a different question or request.\n",
      "Chatbot: I'm sorry, I don't understand that. Please try asking a different question or request.\n",
      "Chatbot: I'm sorry, I don't understand that. Please try asking a different question or request.\n",
      "Chatbot: I'm sorry, I don't understand that. Please try asking a different question or request.\n",
      "Chatbot: I'm sorry, I don't understand that. Please try asking a different question or request.\n",
      "Chatbot: I'm sorry, I don't understand that. Please try asking a different question or request.\n",
      "Chatbot: I'm sorry, I don't understand that. Please try asking a different question or request.\n",
      "Chatbot: Goodbye! Have a great day!\n"
     ]
    }
   ],
   "source": [
    "response_dictionary = {\n",
    "    \"hi\": \"Hello there! How can I assist you today?\",\n",
    "    \"how are you\": \"I'm a bot, so I don't have feelings, but I'm functioning properly!\",\n",
    "    \"bye\": \"Goodbye! Have a great day!\",\n",
    "    \"help\": \"Sure, I can help you. What do you need assistance with?\",\n",
    "\n",
    "    # Product Information\n",
    "    \"Tell me about product X\": \"Product X is a high-performance gadget with features like A, B, and C. It is designed for durability and offers a 1-year warranty.\",\n",
    "    \"Do you have smartwatches?\": \"Yes, we offer a variety of smartwatches from top brands such as Apple, Samsung, and Fitbit. You can browse the selection on our website.\",\n",
    "\n",
    "    # Shipping Details\n",
    "    \"How long does shipping take?\": \"Shipping typically takes between 3-7 business days, depending on your location and the shipping method chosen.\",\n",
    "    \"What shipping methods are available?\": \"We offer standard, expedited, and overnight shipping. You can select your preferred method during checkout.\",\n",
    "\n",
    "    # Return Policy\n",
    "    \"What is your return policy?\": \"We have a 30-day return policy. If you are not satisfied with your purchase, you can return the item within 30 days for a full refund.\",\n",
    "    \"How do I return a product?\": \"To return a product, please visit our returns page, enter your order number, and follow the instructions to generate a return shipping label.\",\n",
    "\n",
    "    # Technical Support\n",
    "    \"My gadget won’t turn on\": \"Please try holding the power button for 10 seconds to perform a hard reset. If the issue persists, contact our technical support team.\",\n",
    "    \"How do I reset my device?\": \"To reset your device, navigate to the settings menu, select 'Reset', and follow the on-screen instructions. Ensure you back up your data before resetting.\"\n",
    "}\n",
    "\n",
    "def chatbot_response(user_input):\n",
    "    user_input = user_input.lower()\n",
    "    if user_input in response_dictionary:\n",
    "        print(user_input)\n",
    "        return response_dictionary[user_input]\n",
    "    else:\n",
    "        return \"I'm sorry, I don't understand that. Please try asking a different question or request.\"\n",
    "    \n",
    "\n",
    "def main():\n",
    "    print(\"Welcome to the Chatbot! How can I assist you today?\")\n",
    "    while True:\n",
    "        user_input = input(\"You: \")\n",
    "        if user_input.lower() == \"exit\":\n",
    "            print(\"Chatbot: Goodbye! Have a great day!\")\n",
    "            break\n",
    "        response = chatbot_response(user_input)\n",
    "        print(\"Chatbot:\", response)\n",
    "\n",
    "if __name__ == \"__main__\":\n",
    "    main()\n"
   ]
  },
  {
   "cell_type": "code",
   "execution_count": 3,
   "metadata": {},
   "outputs": [
    {
     "name": "stdout",
     "output_type": "stream",
     "text": [
      "Bot: You can return products within 30 days of receipt for a full refund.\n",
      "Bot: Hello! Welcome to TechGadget Support. How can I assist you today?\n"
     ]
    }
   ],
   "source": [
    "# Simple Customer Support Chatbot\n",
    "\n",
    "responses = {\n",
    "    \"hi\": \"Hello! Welcome to TechGadget Support. How can I assist you today?\",\n",
    "    \"do you have smartwatches\": \"Yes, we have a variety of smartwatches. You can check them out on our products page.\",\n",
    "    \"shipping time\": \"Shipping usually takes 3-5 business days.\",\n",
    "    \"shipping methods\": \"We offer standard, expedited, and overnight shipping.\",\n",
    "    \"return policy\": \"You can return products within 30 days of receipt for a full refund.\",\n",
    "    \"how to return\": \"To return a product, please visit our returns page for a step-by-step guide.\",\n",
    "    \"won’t turn on\": \"Make sure your gadget is charged. If it still won’t turn on, you can visit our troubleshooting page.\",\n",
    "    \"reset device\": \"To reset your device, hold down the power button for 10 seconds. If that doesn't work, please check the manual for a factory reset.\",\n",
    "    \"bye\": \"Thank you for visiting TechGadget. If you have more questions, feel free to ask. Goodbye!\"\n",
    "}\n",
    "\n",
    "def get_bot_response(user_input):\n",
    "    user_input = user_input.lower()\n",
    "\n",
    "    for keyword, response in responses.items():\n",
    "        if keyword in user_input:\n",
    "            return response\n",
    "\n",
    "    return \"I'm not sure how to respond to that. Can you try asking something else?\"\n",
    "\n",
    "while True:\n",
    "    user_input = input(\"You: \")\n",
    "    if user_input.lower() in [\"quit\", \"exit\", \"bye\"]:\n",
    "        print(\"Bot: Goodbye! If you have any more questions, we're here to help.\")\n",
    "        break\n",
    "\n",
    "    response = get_bot_response(user_input)\n",
    "    print(f\"Bot: {response}\")"
   ]
  }
 ],
 "metadata": {
  "kernelspec": {
   "display_name": "Python 3",
   "language": "python",
   "name": "python3"
  },
  "language_info": {
   "codemirror_mode": {
    "name": "ipython",
    "version": 3
   },
   "file_extension": ".py",
   "mimetype": "text/x-python",
   "name": "python",
   "nbconvert_exporter": "python",
   "pygments_lexer": "ipython3",
   "version": "3.10.12"
  }
 },
 "nbformat": 4,
 "nbformat_minor": 2
}
