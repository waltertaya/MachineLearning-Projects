{
 "cells": [
  {
   "cell_type": "code",
   "execution_count": 1,
   "metadata": {},
   "outputs": [
    {
     "name": "stdout",
     "output_type": "stream",
     "text": [
      "Bot: I'm not sure how to respond to that. Can you try asking something else?\n",
      "Bot: I'm not sure how to respond to that. Can you try asking something else?\n",
      "Bot: Hello there! How can I assist you today?\n",
      "Bot: I'm not sure how to respond to that. Can you try asking something else?\n",
      "Bot: I'm a bot, so I don't have feelings, but I'm functioning properly!\n",
      "Bot: I'm not sure how to respond to that. Can you try asking something else?\n",
      "Bot: I'm not sure how to respond to that. Can you try asking something else?\n",
      "Bot: I'm not sure how to respond to that. Can you try asking something else?\n",
      "Bot: I'm not sure how to respond to that. Can you try asking something else?\n",
      "Bot: I'm not sure how to respond to that. Can you try asking something else?\n",
      "Bot: Goodbye! Have a great day!\n",
      "Bot: Goodbye! Have a great day!\n"
     ]
    }
   ],
   "source": [
    "# Define a dictionary with predefined responses\n",
    "responses = {\n",
    "    \"hi\": \"Hello there! How can I assist you today?\",\n",
    "    \"how are you\": \"I'm a bot, so I don't have feelings, but I'm functioning properly!\",\n",
    "    \"bye\": \"Goodbye! Have a great day!\",\n",
    "    \"help\": \"Sure, I can help you. What do you need assistance with?\",\n",
    "}\n",
    "\n",
    "# Function to get the bot response\n",
    "def get_bot_response(user_input):\n",
    "    # Make the input lowercase to match the dictionary keys\n",
    "    user_input = user_input.lower()\n",
    "\n",
    "    # Return the matching response if it exists, otherwise return a default response\n",
    "    return responses.get(user_input, \"I'm not sure how to respond to that. Can you try asking something else?\")\n",
    "\n",
    "# Main chat loop\n",
    "while True:\n",
    "    user_input = input(\"You: \")\n",
    "    if user_input.lower() == \"quit\":\n",
    "        print(\"Bot: Goodbye!\")\n",
    "        break\n",
    "\n",
    "    response = get_bot_response(user_input)\n",
    "    print(f\"Bot: {response}\")"
   ]
  }
 ],
 "metadata": {
  "kernelspec": {
   "display_name": "Python 3",
   "language": "python",
   "name": "python3"
  },
  "language_info": {
   "codemirror_mode": {
    "name": "ipython",
    "version": 3
   },
   "file_extension": ".py",
   "mimetype": "text/x-python",
   "name": "python",
   "nbconvert_exporter": "python",
   "pygments_lexer": "ipython3",
   "version": "3.10.12"
  }
 },
 "nbformat": 4,
 "nbformat_minor": 2
}
